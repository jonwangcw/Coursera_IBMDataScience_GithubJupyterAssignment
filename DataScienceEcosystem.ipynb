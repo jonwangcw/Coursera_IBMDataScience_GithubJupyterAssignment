{
 "cells": [
  {
   "cell_type": "markdown",
   "id": "ad6b6c2b-617a-418b-b95b-124b313a18e4",
   "metadata": {},
   "source": [
    "# Data Science Tools and Ecosystem"
   ]
  },
  {
   "cell_type": "markdown",
   "id": "41630b9e-1604-474a-9698-17eacdd8101d",
   "metadata": {},
   "source": [
    "In this notebook, Data Science Tools and Ecosystem are summarized."
   ]
  },
  {
   "cell_type": "markdown",
   "id": "e775b59d-2d82-4078-b0c7-8b1cd00f291b",
   "metadata": {},
   "source": [
    "Some of the popular languages that Data Scientists use are:\n",
    "\n",
    "1. Python\n",
    "2. R\n",
    "3. Java\n",
    "4. C++\n",
    "5. Julia"
   ]
  },
  {
   "cell_type": "markdown",
   "id": "d4e89ae4-cd8a-44b3-ab4f-bda5785cda45",
   "metadata": {},
   "source": [
    "Some of the commonly used libraries used by Data Scientists include:\n",
    "\n",
    "1. NumPy\n",
    "2. SciPy\n",
    "3. pandas\n",
    "4. matplotlib\n",
    "5. sklearn"
   ]
  },
  {
   "cell_type": "markdown",
   "id": "0a1cc8da-dd7f-4bfe-9021-cd6b264a11d8",
   "metadata": {},
   "source": [
    "|Categories of Data Science Tools |\n",
    "| ------------------ |\n",
    "| Data Asset Management |\n",
    "|Code Asset Management|\n",
    "|Execution Environements|\n",
    "|Development Environments|"
   ]
  },
  {
   "cell_type": "markdown",
   "id": "b1042a22-3481-4848-b362-7852b4f2a1ab",
   "metadata": {},
   "source": [
    "### Below are a few examples of evaluating arithmetic expressions in Python."
   ]
  },
  {
   "cell_type": "code",
   "execution_count": 3,
   "id": "d9e40a67-f79f-41af-83bc-d9285b7bdb71",
   "metadata": {},
   "outputs": [
    {
     "name": "stdout",
     "output_type": "stream",
     "text": [
      "17\n"
     ]
    }
   ],
   "source": [
    "# This a simple arithmetic expression to mutiply then add integers \n",
    "arith = (3*4) + 5\n",
    "print(arith)"
   ]
  },
  {
   "cell_type": "code",
   "execution_count": 5,
   "id": "2e500cc5-5dce-4804-b558-4f2a3b08eadd",
   "metadata": {},
   "outputs": [
    {
     "name": "stdout",
     "output_type": "stream",
     "text": [
      "200 minutes = 3.3333333333333335 hours\n"
     ]
    }
   ],
   "source": [
    "#This will convert 200 minutes to hours by diving by 60\n",
    "n_minutes = 200\n",
    "n_hours = n_minutes/60.0\n",
    "print('{0} minutes = {1} hours'.format(n_minutes, n_hours))"
   ]
  },
  {
   "cell_type": "markdown",
   "id": "4d60bafa-09b0-431c-a567-3751dbccfd4d",
   "metadata": {},
   "source": [
    "**Objectives:**\n",
    "* List popular data science languages\n",
    "* List common libraries used by data scientists\n",
    "* List categories of data science tools\n",
    "* Provide examples of performing basic arithmetic using a Jupyter kernel"
   ]
  },
  {
   "cell_type": "markdown",
   "id": "b049a01d-6744-40f0-94b1-18d78a727392",
   "metadata": {},
   "source": [
    "## Author\n",
    "Jon Wang"
   ]
  },
  {
   "cell_type": "code",
   "execution_count": null,
   "id": "f360f1d3-7d9b-4715-95bc-5d98d4f2449a",
   "metadata": {},
   "outputs": [],
   "source": []
  }
 ],
 "metadata": {
  "kernelspec": {
   "display_name": "Python 3 (ipykernel)",
   "language": "python",
   "name": "python3"
  },
  "language_info": {
   "codemirror_mode": {
    "name": "ipython",
    "version": 3
   },
   "file_extension": ".py",
   "mimetype": "text/x-python",
   "name": "python",
   "nbconvert_exporter": "python",
   "pygments_lexer": "ipython3",
   "version": "3.12.4"
  }
 },
 "nbformat": 4,
 "nbformat_minor": 5
}
